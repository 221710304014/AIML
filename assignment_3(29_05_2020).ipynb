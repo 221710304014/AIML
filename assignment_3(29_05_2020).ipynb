{
  "nbformat": 4,
  "nbformat_minor": 0,
  "metadata": {
    "colab": {
      "name": "assignment-3(29-05-2020)",
      "provenance": []
    },
    "kernelspec": {
      "name": "python3",
      "display_name": "Python 3"
    }
  },
  "cells": [
    {
      "cell_type": "code",
      "metadata": {
        "id": "J4GuNW1Eck59",
        "colab_type": "code",
        "colab": {
          "base_uri": "https://localhost:8080/",
          "height": 50
        },
        "outputId": "35257358-b576-4230-9ecc-d14f4e0d3e21"
      },
      "source": [
        "#Create a function to find Factorial of a number using Recursion\n",
        "def factorial(x):\n",
        "    if x==1:\n",
        "        return 1\n",
        "    else:\n",
        "        return x*factorial(x-1)\n",
        "\n",
        "n=int(input(''))\n",
        "f=factorial(n)\n",
        "print (\"factorial  is \",f)"
      ],
      "execution_count": 2,
      "outputs": [
        {
          "output_type": "stream",
          "text": [
            "4\n",
            "factorial  is  24\n"
          ],
          "name": "stdout"
        }
      ]
    },
    {
      "cell_type": "code",
      "metadata": {
        "id": "EKQkKHducyXD",
        "colab_type": "code",
        "colab": {
          "base_uri": "https://localhost:8080/",
          "height": 67
        },
        "outputId": "3a590432-b2d2-420f-9a0d-606caf7c848b"
      },
      "source": [
        "\n",
        "#Create a function and display ‘n’ Fibonacci numbers using Recursion\n",
        "def fib(n):\n",
        "    if n <= 1:  \n",
        "        return n  \n",
        "    else:  \n",
        "        return(fib(n-1) + fib(n-2))  \n",
        "k= int(input(\"\"))  \n",
        "print(\"Fibonacci sequence:\")  \n",
        "for i in range (k):  \n",
        "       print(fib(i),end=\" \")"
      ],
      "execution_count": 3,
      "outputs": [
        {
          "output_type": "stream",
          "text": [
            "4\n",
            "Fibonacci sequence:\n",
            "0 1 1 2 "
          ],
          "name": "stdout"
        }
      ]
    },
    {
      "cell_type": "code",
      "metadata": {
        "id": "Yb-FH28wc9p3",
        "colab_type": "code",
        "colab": {
          "base_uri": "https://localhost:8080/",
          "height": 118
        },
        "outputId": "8f6d2a34-cd1c-4500-c4cd-5e620696b0d0"
      },
      "source": [
        "#Print sum of list of elements without using sum() function\n",
        "num= []\n",
        "total = 0\n",
        "j = 0\n",
        "n = int(input(\"no ofelements \"))\n",
        "for i in range(1, n + 1):\n",
        "    value = int(input(\"enter values \" ))\n",
        "    num.append(value)\n",
        "\n",
        "while(j < n):\n",
        "    total = total + num[j]\n",
        "    j = j + 1\n",
        "print(\"sum of all elements is : \", total)"
      ],
      "execution_count": 4,
      "outputs": [
        {
          "output_type": "stream",
          "text": [
            "no ofelements 4\n",
            "enter values 1\n",
            "enter values 2\n",
            "enter values 6\n",
            "enter values 5\n",
            "sum of all elements is :  14\n"
          ],
          "name": "stdout"
        }
      ]
    },
    {
      "cell_type": "code",
      "metadata": {
        "id": "jnmsObjydFg5",
        "colab_type": "code",
        "colab": {
          "base_uri": "https://localhost:8080/",
          "height": 168
        },
        "outputId": "068fac21-1da4-4d09-eecb-6dd3e2ed2104"
      },
      "source": [
        "#print only even numbers from the list\n",
        "num = []\n",
        "n = int(input(\"total number of elements : \"))\n",
        "for i in range(1, n + 1):\n",
        "    value = int(input(\"values are: \" ))\n",
        "    num.append(value)\n",
        "print(\"\\nEven Numbers are\")\n",
        "for j in range(n):\n",
        "    if(num[j] % 2 == 0):\n",
        "        print(num[j], end = '   ')"
      ],
      "execution_count": 5,
      "outputs": [
        {
          "output_type": "stream",
          "text": [
            "total number of elements : 5\n",
            "values are: 1\n",
            "values are: 2\n",
            "values are: 3\n",
            "values are: 4\n",
            "values are: 5\n",
            "\n",
            "Even Numbers are\n",
            "2   4   "
          ],
          "name": "stdout"
        }
      ]
    },
    {
      "cell_type": "code",
      "metadata": {
        "id": "yXNK3na7dO_v",
        "colab_type": "code",
        "colab": {
          "base_uri": "https://localhost:8080/",
          "height": 50
        },
        "outputId": "6b86bc3b-1072-4138-af8e-6d8cb53642d6"
      },
      "source": [
        "#Write a Python program to get the smallest number from a list and display index of smallest element of the list\n",
        "\n",
        "list=[2,3,1,4,5]\n",
        "print(list.index(min(list)))\n",
        "print(min(list))\n"
      ],
      "execution_count": 6,
      "outputs": [
        {
          "output_type": "stream",
          "text": [
            "2\n",
            "1\n"
          ],
          "name": "stdout"
        }
      ]
    },
    {
      "cell_type": "code",
      "metadata": {
        "id": "_yKKQVDddZnB",
        "colab_type": "code",
        "colab": {
          "base_uri": "https://localhost:8080/",
          "height": 50
        },
        "outputId": "8ea85925-0795-415c-9ee0-bc654b2ad39e"
      },
      "source": [
        "#Write a Python function that checks whether a passed string is palindrome or not.\n",
        "def pal(s):\n",
        "    if len(s) < 1:\n",
        "        return True\n",
        "    else:\n",
        "        if s[0] == s[-1]:\n",
        "            return pal(s[1:-1])\n",
        "        else:\n",
        "            return False\n",
        "a=str(input(\"Enter string: \"))\n",
        "if(pal(a)==True):\n",
        "    print(\"it is palindrome\")\n",
        "else:\n",
        "    print(\"not a palindrome\")"
      ],
      "execution_count": 7,
      "outputs": [
        {
          "output_type": "stream",
          "text": [
            "Enter string: 123\n",
            "not a palindrome\n"
          ],
          "name": "stdout"
        }
      ]
    },
    {
      "cell_type": "code",
      "metadata": {
        "id": "NGr6elncdfRV",
        "colab_type": "code",
        "colab": {
          "base_uri": "https://localhost:8080/",
          "height": 134
        },
        "outputId": "66a754fe-ac64-45e4-cf4a-e4d37c04898b"
      },
      "source": [
        "#Write a Python program to count the number of even and odd numbers from a series of numbers. \n",
        "\n",
        "num=[]\n",
        "ecount = 0\n",
        "ocount = 0\n",
        "n = int(input(\"total number of elements \"))\n",
        "for i in range(1, n+ 1):\n",
        "    value = int(input(\"values are \"))\n",
        "    num.append(value)\n",
        "for j in range(n):\n",
        "    if(num[j] % 2 == 0):\n",
        "        ecount = ecount + 1\n",
        "    else:\n",
        "        ocount = ocount + 1\n",
        "\n",
        "print(\"total odd numbers =  \", ocount)\n",
        "print(\"total even numbers = \", ecount)"
      ],
      "execution_count": 8,
      "outputs": [
        {
          "output_type": "stream",
          "text": [
            "total number of elements 4\n",
            "values are 1\n",
            "values are 5\n",
            "values are 8\n",
            "values are 3\n",
            "total odd numbers =   3\n",
            "total even numbers =  1\n"
          ],
          "name": "stdout"
        }
      ]
    },
    {
      "cell_type": "code",
      "metadata": {
        "id": "YSwqitUOdoHO",
        "colab_type": "code",
        "colab": {
          "base_uri": "https://localhost:8080/",
          "height": 34
        },
        "outputId": "9f0bf070-f36b-4149-fc59-a79062d389f8"
      },
      "source": [
        "#Write a Python program that prints all the numbers from 0 to 6 except 3 and 6.\n",
        "\n",
        "for x in range(6):\n",
        "    if (x == 3 or x==6):\n",
        "        continue\n",
        "    print(x,end=' ')"
      ],
      "execution_count": 9,
      "outputs": [
        {
          "output_type": "stream",
          "text": [
            "0 1 2 4 5 "
          ],
          "name": "stdout"
        }
      ]
    },
    {
      "cell_type": "code",
      "metadata": {
        "id": "b1CL7tKbduwE",
        "colab_type": "code",
        "colab": {
          "base_uri": "https://localhost:8080/",
          "height": 50
        },
        "outputId": "9b4339f6-c586-47b4-e0d6-ef99f24b7c30"
      },
      "source": [
        "#Write a python function to check whether the given number is prime or not\n",
        "\n",
        "num = int(input(\"enter a number: \"))\n",
        "for i in range(2, num):\n",
        "    if num % i  == 0:\n",
        "        print(\"not prime number\")\n",
        "        break\n",
        "else:\n",
        "    print(\"prime number\")"
      ],
      "execution_count": 10,
      "outputs": [
        {
          "output_type": "stream",
          "text": [
            "enter a number: 5\n",
            "prime number\n"
          ],
          "name": "stdout"
        }
      ]
    },
    {
      "cell_type": "code",
      "metadata": {
        "id": "2PStNW3CdyYp",
        "colab_type": "code",
        "colab": {
          "base_uri": "https://localhost:8080/",
          "height": 50
        },
        "outputId": "95aa1cf0-78ed-4ae1-d68e-1161f1e1ca06"
      },
      "source": [
        "#Write a python function to check whether the given number is Adam number or not\n",
        "\n",
        "n =input()\n",
        "rev=n[::-1]\n",
        "nsquare=int(n)**2\n",
        "revsquare=int(rev )**2\n",
        "if int(nsquare )==int(str(revsquare)[::-1]):\n",
        "   print(\" is a adam number\")\n",
        "else:\n",
        "   print(\" is not a adam number\")"
      ],
      "execution_count": 11,
      "outputs": [
        {
          "output_type": "stream",
          "text": [
            "3\n",
            " is a adam number\n"
          ],
          "name": "stdout"
        }
      ]
    },
    {
      "cell_type": "code",
      "metadata": {
        "id": "YFAbbny3d42p",
        "colab_type": "code",
        "colab": {}
      },
      "source": [
        ""
      ],
      "execution_count": 0,
      "outputs": []
    }
  ]
}