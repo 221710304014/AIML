{
  "nbformat": 4,
  "nbformat_minor": 0,
  "metadata": {
    "colab": {
      "name": "Assignment-7(03-06-2020)",
      "provenance": []
    },
    "kernelspec": {
      "name": "python3",
      "display_name": "Python 3"
    }
  },
  "cells": [
    {
      "cell_type": "code",
      "metadata": {
        "id": "8m0lm0MCImwo",
        "colab_type": "code",
        "colab": {}
      },
      "source": [
        "# Print the contents of a file line by line putting a line number for each line\n",
        "f = open(\"fi.txt\", \"a\")\n",
        "f.write(\"my name is tharun\\n studying in cseb4\\n from pulivendula\\n cse\")\n",
        "f.close()"
      ],
      "execution_count": 0,
      "outputs": []
    },
    {
      "cell_type": "code",
      "metadata": {
        "id": "0wP_5guhJC7c",
        "colab_type": "code",
        "colab": {
          "base_uri": "https://localhost:8080/",
          "height": 134
        },
        "outputId": "9b402c91-6402-4666-c172-27b4dc023a91"
      },
      "source": [
        "with open(\"fi.txt\",\"r\") as f:\n",
        "    i=1\n",
        "    for line in f:\n",
        "        print(i,\". \",line)\n",
        "        i+=1"
      ],
      "execution_count": 2,
      "outputs": [
        {
          "output_type": "stream",
          "text": [
            "1 .  my name is tharun\n",
            "\n",
            "2 .   studying in cseb4\n",
            "\n",
            "3 .   from pulivendula\n",
            "\n",
            "4 .   cse\n"
          ],
          "name": "stdout"
        }
      ]
    },
    {
      "cell_type": "code",
      "metadata": {
        "id": "lRucF43-JJLa",
        "colab_type": "code",
        "colab": {}
      },
      "source": [
        "with open(\"fi.txt\",\"r\") as f:\n",
        "    with open(\"fi1.txt\",\"w\") as f1:     \n",
        "        for line in f:\n",
        "            f1.write(line)"
      ],
      "execution_count": 0,
      "outputs": []
    },
    {
      "cell_type": "code",
      "metadata": {
        "id": "_MwcgGrBJN9F",
        "colab_type": "code",
        "colab": {
          "base_uri": "https://localhost:8080/",
          "height": 134
        },
        "outputId": "e9a1fa9d-df44-4455-d00b-4e54218501ff"
      },
      "source": [
        "#displaying contents in reverse order\n",
        "with open(\"fi1.txt\",\"r\") as f1:\n",
        "        for line in f1:                   \n",
        "            print(line[::-1])"
      ],
      "execution_count": 4,
      "outputs": [
        {
          "output_type": "stream",
          "text": [
            "\n",
            "nuraht si eman ym\n",
            "\n",
            "4besc ni gniyduts \n",
            "\n",
            "aludnevilup morf \n",
            "esc \n"
          ],
          "name": "stdout"
        }
      ]
    },
    {
      "cell_type": "code",
      "metadata": {
        "id": "sqFbx2QjJSR2",
        "colab_type": "code",
        "colab": {
          "base_uri": "https://localhost:8080/",
          "height": 50
        },
        "outputId": "ddae970e-e898-4e6c-e374-c4f38ecf98cc"
      },
      "source": [
        "# Function to find duplicates in lists\n",
        "def duplicate(l):\n",
        "    for i in l:\n",
        "        if(l.count(i)>1):\n",
        "            return True\n",
        "            break\n",
        "        else:\n",
        "            continue\n",
        "    return False\n",
        "def removed(f):\n",
        "    for i in l:\n",
        "        if i not in li:\n",
        "            li.append(i)\n",
        "    return li\n",
        "l = [1,2,3,2]\n",
        "li= []\n",
        "f = (duplicate(l))\n",
        "print(f)\n",
        "if(f == True):\n",
        "    print(removed(l))"
      ],
      "execution_count": 5,
      "outputs": [
        {
          "output_type": "stream",
          "text": [
            "True\n",
            "[1, 2, 3]\n"
          ],
          "name": "stdout"
        }
      ]
    },
    {
      "cell_type": "code",
      "metadata": {
        "id": "7JyVzLu_JWdM",
        "colab_type": "code",
        "colab": {
          "base_uri": "https://localhost:8080/",
          "height": 34
        },
        "outputId": "c8a9ff7c-020b-4694-adbe-9cf1652b6983"
      },
      "source": [
        "# Function to find duplicates in lists\n",
        "def duplicate(l):\n",
        "    for i in l:\n",
        "        if(l.count(i)>1):\n",
        "            return True\n",
        "            break\n",
        "        else:\n",
        "            continue\n",
        "    return False\n",
        "def removed(f):\n",
        "    for i in l:\n",
        "        if i not in li:\n",
        "            li.append(i)\n",
        "    return li\n",
        "l = [1,2,3,4,5]\n",
        "li= []\n",
        "f = (duplicate(l))\n",
        "print(f)\n",
        "if(f == True):\n",
        "    print(removed(l))"
      ],
      "execution_count": 6,
      "outputs": [
        {
          "output_type": "stream",
          "text": [
            "False\n"
          ],
          "name": "stdout"
        }
      ]
    },
    {
      "cell_type": "markdown",
      "metadata": {
        "id": "wbkYkmNQJhk5",
        "colab_type": "text"
      },
      "source": [
        "Develop a package for fractions. Develop a module that performs operations on fractions. It should have methods to create fractions, perform operations on two fractions, simplify a fraction, and print a fraction. You should use that package and illustrate those operations."
      ]
    },
    {
      "cell_type": "code",
      "metadata": {
        "id": "WeiiQjYmJcYN",
        "colab_type": "code",
        "colab": {
          "base_uri": "https://localhost:8080/",
          "height": 118
        },
        "outputId": "be9975b7-8119-4a08-8427-9dbd2e6e3c82"
      },
      "source": [
        "from fractions import Fraction\n",
        "a = Fraction(1, 2)\n",
        "print(float(a))\n",
        "b=Fraction(1, 2) + Fraction(3, 4)\n",
        "print(float(b))\n",
        "c=Fraction(1, 2) - Fraction(3, 4)\n",
        "print(float(c))\n",
        "d=Fraction(1, 2) * Fraction(3, 4)\n",
        "print(float(d))\n",
        "e=Fraction(1, 2) / Fraction(3, 4)\n",
        "print(float(e))\n",
        "f=Fraction(1, 2) % Fraction(3, 4)\n",
        "print(float(b))"
      ],
      "execution_count": 7,
      "outputs": [
        {
          "output_type": "stream",
          "text": [
            "0.5\n",
            "1.25\n",
            "-0.25\n",
            "0.375\n",
            "0.6666666666666666\n",
            "1.25\n"
          ],
          "name": "stdout"
        }
      ]
    },
    {
      "cell_type": "code",
      "metadata": {
        "id": "D-z3SB3vJgKF",
        "colab_type": "code",
        "colab": {
          "base_uri": "https://localhost:8080/",
          "height": 34
        },
        "outputId": "e8349217-cd8d-403f-f093-9f7c1bcde18f"
      },
      "source": [
        "#A permutation of a list is another list with the same elements, but in a possibly different order. For example, [1,2,1]\n",
        "#is a permutation of [2,1,1], but not of [1,2,2]. Write a functionisPermutation (list1, list2): boolthat returns True if         \n",
        "#its arguments are permutations of each other.\n",
        "def ispermutation(l1,l2):\n",
        "    sum1 = sum(l1)\n",
        "    sum2 = sum(l2)\n",
        "    if sum1 == sum2:\n",
        "        return True\n",
        "    else:\n",
        "        return False\n",
        "l1 = [1,2,1]\n",
        "l2 = [1,1,2]\n",
        "print(ispermutation(l1,l2))"
      ],
      "execution_count": 8,
      "outputs": [
        {
          "output_type": "stream",
          "text": [
            "True\n"
          ],
          "name": "stdout"
        }
      ]
    },
    {
      "cell_type": "code",
      "metadata": {
        "id": "4CSCqLEMJntH",
        "colab_type": "code",
        "colab": {}
      },
      "source": [
        ""
      ],
      "execution_count": 0,
      "outputs": []
    }
  ]
}