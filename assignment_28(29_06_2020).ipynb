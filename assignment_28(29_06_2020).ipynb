{
  "nbformat": 4,
  "nbformat_minor": 0,
  "metadata": {
    "colab": {
      "name": "assignment-28(29-06-2020)",
      "provenance": []
    },
    "kernelspec": {
      "name": "python3",
      "display_name": "Python 3"
    }
  },
  "cells": [
    {
      "cell_type": "markdown",
      "metadata": {
        "id": "8Gdvp0rUzyil",
        "colab_type": "text"
      },
      "source": [
        "CSE-221710304014-C.Tharun Kumar Reddy"
      ]
    },
    {
      "cell_type": "markdown",
      "metadata": {
        "id": "oh0gsiYSz_xa",
        "colab_type": "text"
      },
      "source": [
        "Now the factory produces a new paper tissue with X1 value as 3 and X2 value as 7. What is the classification of this new tissue(Good or Bad).x1=AcidDurab,x2=strength,y=classi\n",
        "\n",
        "\n",
        "a.Calculate the distance between the query instance(3,7) and all the training samples.\n",
        "\n",
        "b.Sort the distance and determine nearest neighbor based on k\n",
        "\n",
        "c.Gather the y category of nearest neighbor and that category becomes the predicted class of query instance"
      ]
    },
    {
      "cell_type": "code",
      "metadata": {
        "id": "dHuUP5Lyy_vX",
        "colab_type": "code",
        "colab": {
          "base_uri": "https://localhost:8080/",
          "height": 70
        },
        "outputId": "97fb7e84-bd7d-4e44-a602-89c7540c4ca0"
      },
      "source": [
        "import numpy as np\n",
        "import pandas as pd\n",
        "import seaborn as sns\n",
        "import matplotlib.pyplot as plt\n",
        "%matplotlib inline"
      ],
      "execution_count": 1,
      "outputs": [
        {
          "output_type": "stream",
          "text": [
            "/usr/local/lib/python3.6/dist-packages/statsmodels/tools/_testing.py:19: FutureWarning: pandas.util.testing is deprecated. Use the functions in the public API at pandas.testing instead.\n",
            "  import pandas.util.testing as tm\n"
          ],
          "name": "stderr"
        }
      ]
    },
    {
      "cell_type": "code",
      "metadata": {
        "id": "O4qSwvsq2YMs",
        "colab_type": "code",
        "colab": {
          "base_uri": "https://localhost:8080/",
          "height": 166
        },
        "outputId": "f06c6135-516e-494e-c954-c50ec6c99c5b"
      },
      "source": [
        "df=pd.DataFrame({'AcidDurab':[7,7,3,1],'strength':[7,4,4,4],'classi':['bad','bad','good','good']})\n",
        "df\n"
      ],
      "execution_count": 2,
      "outputs": [
        {
          "output_type": "execute_result",
          "data": {
            "text/html": [
              "<div>\n",
              "<style scoped>\n",
              "    .dataframe tbody tr th:only-of-type {\n",
              "        vertical-align: middle;\n",
              "    }\n",
              "\n",
              "    .dataframe tbody tr th {\n",
              "        vertical-align: top;\n",
              "    }\n",
              "\n",
              "    .dataframe thead th {\n",
              "        text-align: right;\n",
              "    }\n",
              "</style>\n",
              "<table border=\"1\" class=\"dataframe\">\n",
              "  <thead>\n",
              "    <tr style=\"text-align: right;\">\n",
              "      <th></th>\n",
              "      <th>AcidDurab</th>\n",
              "      <th>strength</th>\n",
              "      <th>classi</th>\n",
              "    </tr>\n",
              "  </thead>\n",
              "  <tbody>\n",
              "    <tr>\n",
              "      <th>0</th>\n",
              "      <td>7</td>\n",
              "      <td>7</td>\n",
              "      <td>bad</td>\n",
              "    </tr>\n",
              "    <tr>\n",
              "      <th>1</th>\n",
              "      <td>7</td>\n",
              "      <td>4</td>\n",
              "      <td>bad</td>\n",
              "    </tr>\n",
              "    <tr>\n",
              "      <th>2</th>\n",
              "      <td>3</td>\n",
              "      <td>4</td>\n",
              "      <td>good</td>\n",
              "    </tr>\n",
              "    <tr>\n",
              "      <th>3</th>\n",
              "      <td>1</td>\n",
              "      <td>4</td>\n",
              "      <td>good</td>\n",
              "    </tr>\n",
              "  </tbody>\n",
              "</table>\n",
              "</div>"
            ],
            "text/plain": [
              "   AcidDurab  strength classi\n",
              "0          7         7    bad\n",
              "1          7         4    bad\n",
              "2          3         4   good\n",
              "3          1         4   good"
            ]
          },
          "metadata": {
            "tags": []
          },
          "execution_count": 2
        }
      ]
    },
    {
      "cell_type": "code",
      "metadata": {
        "id": "We-2UuNx2bnh",
        "colab_type": "code",
        "colab": {
          "base_uri": "https://localhost:8080/",
          "height": 279
        },
        "outputId": "550d2079-5afb-4a4c-de84-49ed83549af1"
      },
      "source": [
        "plt.xlabel(\"AcidDurab\")\n",
        "plt.ylabel(\"strength\")\n",
        "plt.scatter(df.AcidDurab,df.strength)\n",
        "plt.show()"
      ],
      "execution_count": 3,
      "outputs": [
        {
          "output_type": "display_data",
          "data": {
            "image/png": "[encoded data removed]",
            "text/plain": [
              "<Figure size 432x288 with 1 Axes>"
            ]
          },
          "metadata": {
            "tags": [],
            "needs_background": "light"
          }
        }
      ]
    },
    {
      "cell_type": "code",
      "metadata": {
        "id": "HPrJM6yt2lGT",
        "colab_type": "code",
        "colab": {}
      },
      "source": [
        "import math\n"
      ],
      "execution_count": 4,
      "outputs": []
    },
    {
      "cell_type": "code",
      "metadata": {
        "id": "sQ9WGfJF2tVk",
        "colab_type": "code",
        "colab": {}
      },
      "source": [
        "nx1=3\n",
        "nx2=7\n",
        "dist=[]\n",
        "for i in range(df.shape[0]):\n",
        "    v=math.sqrt((nx1-df.iloc[i,0])**2+(nx2-df.iloc[i,1])**2)\n",
        "    dist.append(v)"
      ],
      "execution_count": 5,
      "outputs": []
    },
    {
      "cell_type": "code",
      "metadata": {
        "id": "aOeYoIpp-6Na",
        "colab_type": "code",
        "colab": {
          "base_uri": "https://localhost:8080/",
          "height": 34
        },
        "outputId": "78bab76b-4956-4d4b-cb63-6cde065fffa5"
      },
      "source": [
        "dist"
      ],
      "execution_count": 6,
      "outputs": [
        {
          "output_type": "execute_result",
          "data": {
            "text/plain": [
              "[4.0, 5.0, 3.0, 3.605551275463989]"
            ]
          },
          "metadata": {
            "tags": []
          },
          "execution_count": 6
        }
      ]
    },
    {
      "cell_type": "code",
      "metadata": {
        "id": "YK1reNwR-8Xo",
        "colab_type": "code",
        "colab": {
          "base_uri": "https://localhost:8080/",
          "height": 166
        },
        "outputId": "8dafe9a3-657a-4e87-f3d3-11b2a7ec7959"
      },
      "source": [
        "df['dist']=dist\n",
        "df"
      ],
      "execution_count": 7,
      "outputs": [
        {
          "output_type": "execute_result",
          "data": {
            "text/html": [
              "<div>\n",
              "<style scoped>\n",
              "    .dataframe tbody tr th:only-of-type {\n",
              "        vertical-align: middle;\n",
              "    }\n",
              "\n",
              "    .dataframe tbody tr th {\n",
              "        vertical-align: top;\n",
              "    }\n",
              "\n",
              "    .dataframe thead th {\n",
              "        text-align: right;\n",
              "    }\n",
              "</style>\n",
              "<table border=\"1\" class=\"dataframe\">\n",
              "  <thead>\n",
              "    <tr style=\"text-align: right;\">\n",
              "      <th></th>\n",
              "      <th>AcidDurab</th>\n",
              "      <th>strength</th>\n",
              "      <th>classi</th>\n",
              "      <th>dist</th>\n",
              "    </tr>\n",
              "  </thead>\n",
              "  <tbody>\n",
              "    <tr>\n",
              "      <th>0</th>\n",
              "      <td>7</td>\n",
              "      <td>7</td>\n",
              "      <td>bad</td>\n",
              "      <td>4.000000</td>\n",
              "    </tr>\n",
              "    <tr>\n",
              "      <th>1</th>\n",
              "      <td>7</td>\n",
              "      <td>4</td>\n",
              "      <td>bad</td>\n",
              "      <td>5.000000</td>\n",
              "    </tr>\n",
              "    <tr>\n",
              "      <th>2</th>\n",
              "      <td>3</td>\n",
              "      <td>4</td>\n",
              "      <td>good</td>\n",
              "      <td>3.000000</td>\n",
              "    </tr>\n",
              "    <tr>\n",
              "      <th>3</th>\n",
              "      <td>1</td>\n",
              "      <td>4</td>\n",
              "      <td>good</td>\n",
              "      <td>3.605551</td>\n",
              "    </tr>\n",
              "  </tbody>\n",
              "</table>\n",
              "</div>"
            ],
            "text/plain": [
              "   AcidDurab  strength classi      dist\n",
              "0          7         7    bad  4.000000\n",
              "1          7         4    bad  5.000000\n",
              "2          3         4   good  3.000000\n",
              "3          1         4   good  3.605551"
            ]
          },
          "metadata": {
            "tags": []
          },
          "execution_count": 7
        }
      ]
    },
    {
      "cell_type": "code",
      "metadata": {
        "id": "GpE8AttG_Cyr",
        "colab_type": "code",
        "colab": {
          "base_uri": "https://localhost:8080/",
          "height": 166
        },
        "outputId": "817569fd-bba9-44d1-cf25-10ea3d435f6a"
      },
      "source": [
        "df.sort_values(\"dist\",inplace=True)\n",
        "df"
      ],
      "execution_count": 8,
      "outputs": [
        {
          "output_type": "execute_result",
          "data": {
            "text/html": [
              "<div>\n",
              "<style scoped>\n",
              "    .dataframe tbody tr th:only-of-type {\n",
              "        vertical-align: middle;\n",
              "    }\n",
              "\n",
              "    .dataframe tbody tr th {\n",
              "        vertical-align: top;\n",
              "    }\n",
              "\n",
              "    .dataframe thead th {\n",
              "        text-align: right;\n",
              "    }\n",
              "</style>\n",
              "<table border=\"1\" class=\"dataframe\">\n",
              "  <thead>\n",
              "    <tr style=\"text-align: right;\">\n",
              "      <th></th>\n",
              "      <th>AcidDurab</th>\n",
              "      <th>strength</th>\n",
              "      <th>classi</th>\n",
              "      <th>dist</th>\n",
              "    </tr>\n",
              "  </thead>\n",
              "  <tbody>\n",
              "    <tr>\n",
              "      <th>2</th>\n",
              "      <td>3</td>\n",
              "      <td>4</td>\n",
              "      <td>good</td>\n",
              "      <td>3.000000</td>\n",
              "    </tr>\n",
              "    <tr>\n",
              "      <th>3</th>\n",
              "      <td>1</td>\n",
              "      <td>4</td>\n",
              "      <td>good</td>\n",
              "      <td>3.605551</td>\n",
              "    </tr>\n",
              "    <tr>\n",
              "      <th>0</th>\n",
              "      <td>7</td>\n",
              "      <td>7</td>\n",
              "      <td>bad</td>\n",
              "      <td>4.000000</td>\n",
              "    </tr>\n",
              "    <tr>\n",
              "      <th>1</th>\n",
              "      <td>7</td>\n",
              "      <td>4</td>\n",
              "      <td>bad</td>\n",
              "      <td>5.000000</td>\n",
              "    </tr>\n",
              "  </tbody>\n",
              "</table>\n",
              "</div>"
            ],
            "text/plain": [
              "   AcidDurab  strength classi      dist\n",
              "2          3         4   good  3.000000\n",
              "3          1         4   good  3.605551\n",
              "0          7         7    bad  4.000000\n",
              "1          7         4    bad  5.000000"
            ]
          },
          "metadata": {
            "tags": []
          },
          "execution_count": 8
        }
      ]
    },
    {
      "cell_type": "markdown",
      "metadata": {
        "id": "YwynfXG9_KTx",
        "colab_type": "text"
      },
      "source": [
        "1.If k=1 nearest neighbor, what would be the classification of new paper tissue"
      ]
    },
    {
      "cell_type": "code",
      "metadata": {
        "id": "ZwCNyipL_FTZ",
        "colab_type": "code",
        "colab": {
          "base_uri": "https://localhost:8080/",
          "height": 279
        },
        "outputId": "a494e728-751a-42a4-9444-0ea55fd989bd"
      },
      "source": [
        "plt.xlabel(\"AcidDurab\")\n",
        "plt.ylabel(\"strength\")\n",
        "plt.scatter(df.iloc[1:,0],df.iloc[1:,1])\n",
        "plt.scatter(pd.Series(nx1),pd.Series(nx2),color=\"green\")\n",
        "plt.scatter(pd.Series([df.iloc[0,0]]),pd.Series([df.iloc[0,1]]),color='red')\n",
        "plt.show()\n"
      ],
      "execution_count": 9,
      "outputs": [
        {
          "output_type": "display_data",
          "data": {
            "image/png": "[encoded data removed]",
            "text/plain": [
              "<Figure size 432x288 with 1 Axes>"
            ]
          },
          "metadata": {
            "tags": [],
            "needs_background": "light"
          }
        }
      ]
    },
    {
      "cell_type": "markdown",
      "metadata": {
        "id": "kySSAK6w_LsS",
        "colab_type": "text"
      },
      "source": [
        "When k=1 from (3,7) point\n",
        "Then (3,4) is the only point i.e., (3,4) is the nearest point for the (3,7) point\n",
        "(3,4) is classified as Good so , we will consider (3,7) also as Good\n",
        "\n",
        "2.If k=3 nearest neighbors, what would be the classification of new paper tissue"
      ]
    },
    {
      "cell_type": "code",
      "metadata": {
        "id": "Q5VUsNGO_Hnd",
        "colab_type": "code",
        "colab": {
          "base_uri": "https://localhost:8080/",
          "height": 279
        },
        "outputId": "2f829d17-99de-441d-ff0e-ff07fcdb5c95"
      },
      "source": [
        "plt.xlabel(\"AcidDurab\")\n",
        "plt.ylabel(\"strength\")\n",
        "plt.scatter(df.iloc[1:,0],df.iloc[1:,1])\n",
        "plt.scatter(pd.Series(nx1),pd.Series(nx2),color=\"green\")\n",
        "plt.scatter(df.iloc[0:3,0],df.iloc[0:3,1],color='red')\n",
        "plt.show()"
      ],
      "execution_count": 10,
      "outputs": [
        {
          "output_type": "display_data",
          "data": {
            "image/png": "[encoded data removed]",
            "text/plain": [
              "<Figure size 432x288 with 1 Axes>"
            ]
          },
          "metadata": {
            "tags": [],
            "needs_background": "light"
          }
        }
      ]
    },
    {
      "cell_type": "markdown",
      "metadata": {
        "id": "r2CTEbUM_VzK",
        "colab_type": "text"
      },
      "source": [
        "\n",
        "When k=3 from (3,7) point\n",
        "Then (3,4),(1,4) and (7,7) are the point nearest to (3,7)\n",
        "(3,4) is classified as Good so , we will consider (3,7) has Goodpoints=1\n",
        "(1,4) is classified as Good so , we will consider (3,7) has Goodpoints=2\n",
        "(7,7) is classified as Good so , we will consider (3,7) has badpoints=1\n",
        "Since Goodpoints>badpoints, we will consider (3,7) as Good"
      ]
    },
    {
      "cell_type": "code",
      "metadata": {
        "id": "ZjvEvHX__Scp",
        "colab_type": "code",
        "colab": {}
      },
      "source": [
        ""
      ],
      "execution_count": null,
      "outputs": []
    }
  ]
}