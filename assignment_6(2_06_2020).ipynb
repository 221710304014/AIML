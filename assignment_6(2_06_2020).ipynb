{
  "nbformat": 4,
  "nbformat_minor": 0,
  "metadata": {
    "colab": {
      "name": "assignment-6(2-06-2020)",
      "provenance": []
    },
    "kernelspec": {
      "name": "python3",
      "display_name": "Python 3"
    }
  },
  "cells": [
    {
      "cell_type": "code",
      "metadata": {
        "id": "oq6nDz5YDP5G",
        "colab_type": "code",
        "colab": {
          "base_uri": "https://localhost:8080/",
          "height": 286
        },
        "outputId": "41d661bf-6abe-4de5-ed5b-16d2edc847af"
      },
      "source": [
        "import random\n",
        "list1=['ackke','apple','areca','betal','chard','chive','drupe','galia','grape','mango']\n",
        "n=9\n",
        "x=5\n",
        "list3=['?','?','?','?','?']\n",
        "list2=list(random.choice(list1))\n",
        "str1=''\n",
        "for ele in list2: \n",
        "    str1 += ele \n",
        "while n!=0 and x!=0:\n",
        "    print(list3)\n",
        "    print(\"lifes left\",end=\":\")\n",
        "    for i in range(n):\n",
        "        print('♥',end=' ')\n",
        "    s=input(\"\\ngive a letter or the whole word\")\n",
        "    if len(s)>1:\n",
        "        if s==str1:\n",
        "            x=0\n",
        "        else:\n",
        "            print(\"you lose a life\")\n",
        "            n=n-1\n",
        "    else:\n",
        "        c=0\n",
        "        for i in range(len(list2)):\n",
        "            if list2[i]==s:\n",
        "                list3[i]=list2[i]\n",
        "                list2[i]=' '\n",
        "                x=x-1\n",
        "                c=1\n",
        "                break\n",
        "        if c==0:\n",
        "            print(\"you lose a life\")\n",
        "            n=n-1\n",
        "print(\"you won the secret  word %s\"%str1 if x==0 else \"lifes are over the word is %s\"%str1)"
      ],
      "execution_count": 11,
      "outputs": [
        {
          "output_type": "stream",
          "text": [
            "['?', '?', '?', '?', '?']\n",
            "lifes left:♥ ♥ ♥ ♥ ♥ ♥ ♥ ♥ ♥ \n",
            "give a letter or the whole worda\n",
            "['?', '?', 'a', '?', '?']\n",
            "lifes left:♥ ♥ ♥ ♥ ♥ ♥ ♥ ♥ ♥ \n",
            "give a letter or the whole wordc\n",
            "['c', '?', 'a', '?', '?']\n",
            "lifes left:♥ ♥ ♥ ♥ ♥ ♥ ♥ ♥ ♥ \n",
            "give a letter or the whole wordh\n",
            "['c', 'h', 'a', '?', '?']\n",
            "lifes left:♥ ♥ ♥ ♥ ♥ ♥ ♥ ♥ ♥ \n",
            "give a letter or the whole wordr\n",
            "['c', 'h', 'a', 'r', '?']\n",
            "lifes left:♥ ♥ ♥ ♥ ♥ ♥ ♥ ♥ ♥ \n",
            "give a letter or the whole wordd\n",
            "you won the secret  word chard\n"
          ],
          "name": "stdout"
        }
      ]
    },
    {
      "cell_type": "code",
      "metadata": {
        "id": "LSZ7gvKxDZoP",
        "colab_type": "code",
        "colab": {}
      },
      "source": [
        "a\n"
      ],
      "execution_count": 0,
      "outputs": []
    }
  ]
}