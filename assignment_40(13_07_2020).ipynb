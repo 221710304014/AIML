{
  "nbformat": 4,
  "nbformat_minor": 0,
  "metadata": {
    "colab": {
      "name": "assignment-40(13-07-2020)",
      "provenance": []
    },
    "kernelspec": {
      "name": "python3",
      "display_name": "Python 3"
    }
  },
  "cells": [
    {
      "cell_type": "markdown",
      "metadata": {
        "id": "1QuNhbIiRCMp",
        "colab_type": "text"
      },
      "source": [
        "1.What is transfer learning\n",
        "\n",
        "Transfer learning is a machine learning method where a model developed for a task is reused as the starting point for a model on a second task.\n",
        "\n",
        "It is a popular approach in deep learning where pre-trained models are used as the starting point on computer vision and natural language processing tasks given the vast compute and time resources required to develop neural network models on these problems and from the huge jumps in skill that they provide on related problems.\n",
        "\n",
        "Transfer learning make use of `mthe knowledge gained while solving one problem and applying it to a different but related problem.\n",
        "\n",
        "For example, knowledge gained while learning to recognize cars can be used to some extent to recognize trucks.\n"
      ]
    },
    {
      "cell_type": "markdown",
      "metadata": {
        "id": "QV27lySXRjI0",
        "colab_type": "text"
      },
      "source": [
        "2.What is a pretrained model?\n",
        "\n",
        "\n",
        "a pre-trained model is a model created by some one else to solve a similar problem.\n",
        "Instead of building a model from scratch to solve a similar problem, you use the model trained on other problem as a starting point.\n",
        "\n",
        "A pre-trained model may not be 100% accurate in your application, but it saves huge efforts required to re-invent the wheel.\n",
        "\n",
        "By using pre-trained models which have been previously trained on large datasets, we can directly use the weights and architecture obtained and apply the learning on our problem statement.\n"
      ]
    },
    {
      "cell_type": "markdown",
      "metadata": {
        "id": "wt_86EFyRqrn",
        "colab_type": "text"
      },
      "source": [
        "3.What is imagenet database? How many images and classes are there in that data?\n",
        "\n",
        "ImageNet. The ImageNet project is a large visual database designed for use in visual object recognition software research.\n",
        "\n",
        "More than 14 million images have been hand-annotated by the project to indicate what objects are pictured and in at least one million of the images, bounding boxes are also provided.\n",
        "\n",
        "The Tiny ImageNet dataset has 100,000 images across 200 classes. Each class has 500 training images, 50 validation images, and 50 test images.\n",
        "\n",
        "4.What are the different pretrained models available on imagenet?\n",
        "\n",
        "There are many models such as AlexNet, VGGNet, Inception, ResNet, Xception and many more which we can choose from, for our own task.\n",
        "\n",
        "Apart from the ILSVRC winners, many research groups also share their models which they have trained for similar tasks, e.g, MobileNet, SqueezeNet etc.\n",
        "\n",
        "VGG16,\n",
        "\n",
        "InceptionV3,\n",
        "\n",
        "ResNet,\n",
        "\n",
        "MobileNet,\n",
        "\n",
        "Xception,\n",
        "\n",
        "InceptionResNetV2"
      ]
    },
    {
      "cell_type": "code",
      "metadata": {
        "id": "pLipC3rsQ0vn",
        "colab_type": "code",
        "colab": {}
      },
      "source": [
        ""
      ],
      "execution_count": null,
      "outputs": []
    }
  ]
}