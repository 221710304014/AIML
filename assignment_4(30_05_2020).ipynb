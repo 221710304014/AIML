{
  "nbformat": 4,
  "nbformat_minor": 0,
  "metadata": {
    "colab": {
      "name": "assignment-4(30-05-2020)",
      "provenance": []
    },
    "kernelspec": {
      "name": "python3",
      "display_name": "Python 3"
    }
  },
  "cells": [
    {
      "cell_type": "markdown",
      "metadata": {
        "id": "5l0YQoVkL19q",
        "colab_type": "text"
      },
      "source": [
        "CSE-221710304014-c.tharun kumar"
      ]
    },
    {
      "cell_type": "code",
      "metadata": {
        "id": "vrHz0HtGL-cw",
        "colab_type": "code",
        "colab": {}
      },
      "source": [
        "f=open(\"ss.txt\",\"w\")\n",
        "f.write(\"hello everyone\")\n",
        "f.close()"
      ],
      "execution_count": 0,
      "outputs": []
    },
    {
      "cell_type": "code",
      "metadata": {
        "id": "5x8gtLQXMH0I",
        "colab_type": "code",
        "colab": {
          "base_uri": "https://localhost:8080/",
          "height": 67
        },
        "outputId": "39599135-9f66-44b6-9774-baaeec6f99d4"
      },
      "source": [
        "# Count the no.of words,no.of letters,no.of lines available in your file\n",
        "\n",
        "\n",
        "with open('ss.txt') as infile:\n",
        "    lines=0\n",
        "    words=0\n",
        "    characters=0\n",
        "    for line in infile:\n",
        "        wordslist=line.split()\n",
        "        lines=lines+1\n",
        "        words=words+len(wordslist)\n",
        "        characters += sum(len(word) for word in wordslist)\n",
        "print(lines)\n",
        "print(words)\n",
        "print(characters)"
      ],
      "execution_count": 2,
      "outputs": [
        {
          "output_type": "stream",
          "text": [
            "1\n",
            "2\n",
            "13\n"
          ],
          "name": "stdout"
        }
      ]
    },
    {
      "cell_type": "code",
      "metadata": {
        "id": "dxScfg5WMMH6",
        "colab_type": "code",
        "colab": {}
      },
      "source": [
        "# Copy the content of one file to another\n",
        "\n",
        "with open(\"ss.txt\") as f:\n",
        "    with open(\"cap.txt\", \"w\") as f1:\n",
        "        for line in f:\n",
        "            f1.write(line)"
      ],
      "execution_count": 0,
      "outputs": []
    },
    {
      "cell_type": "code",
      "metadata": {
        "id": "BBRyAnDfMPX2",
        "colab_type": "code",
        "colab": {
          "base_uri": "https://localhost:8080/",
          "height": 34
        },
        "outputId": "85c0cc26-cae5-4753-8bdb-729a568d52b9"
      },
      "source": [
        "# Copy the content of one file to another\n",
        "\n",
        "f=open(\"cap.txt\",\"r\")\n",
        "data=f.read()\n",
        "print(data)\n",
        "f.close()"
      ],
      "execution_count": 4,
      "outputs": [
        {
          "output_type": "stream",
          "text": [
            "hello everyone\n"
          ],
          "name": "stdout"
        }
      ]
    },
    {
      "cell_type": "code",
      "metadata": {
        "id": "13jKhaSWMUtj",
        "colab_type": "code",
        "colab": {}
      },
      "source": [
        "# Rename file\n",
        "import os\n",
        "os.rename( \"cap.txt\", \"test1.txt\" )"
      ],
      "execution_count": 0,
      "outputs": []
    },
    {
      "cell_type": "code",
      "metadata": {
        "id": "NHhvWEOpMYpw",
        "colab_type": "code",
        "colab": {
          "base_uri": "https://localhost:8080/",
          "height": 34
        },
        "outputId": "0d09a781-7934-40c6-b080-a05b3cc0c71c"
      },
      "source": [
        "f=open(\"test1.txt\",\"r\")\n",
        "data=f.read()\n",
        "print(data)\n",
        "f.close()"
      ],
      "execution_count": 6,
      "outputs": [
        {
          "output_type": "stream",
          "text": [
            "hello everyone\n"
          ],
          "name": "stdout"
        }
      ]
    },
    {
      "cell_type": "code",
      "metadata": {
        "id": "8D6w95vpMcVX",
        "colab_type": "code",
        "colab": {}
      },
      "source": [
        "# remove file\n",
        "import os\n",
        "os.remove(\"test1.txt\")"
      ],
      "execution_count": 0,
      "outputs": []
    },
    {
      "cell_type": "code",
      "metadata": {
        "id": "_RyhyYsCMiIw",
        "colab_type": "code",
        "colab": {
          "base_uri": "https://localhost:8080/",
          "height": 67
        },
        "outputId": "f2c1280b-23f2-4877-f6f6-faef983aca89"
      },
      "source": [
        "#Display the words starting with letter 'p'\n",
        "l=['pencil','pen','potato','orange','apple','mango']\n",
        "for i in l:\n",
        "    if i.startswith(\"p\"):\n",
        "        print(i)"
      ],
      "execution_count": 8,
      "outputs": [
        {
          "output_type": "stream",
          "text": [
            "pencil\n",
            "pen\n",
            "potato\n"
          ],
          "name": "stdout"
        }
      ]
    },
    {
      "cell_type": "code",
      "metadata": {
        "id": "22e0cYzuMlAX",
        "colab_type": "code",
        "colab": {}
      },
      "source": [
        ""
      ],
      "execution_count": 0,
      "outputs": []
    }
  ]
}