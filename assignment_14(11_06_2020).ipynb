{
  "nbformat": 4,
  "nbformat_minor": 0,
  "metadata": {
    "colab": {
      "name": "assignment-14(11-06-2020)",
      "provenance": []
    },
    "kernelspec": {
      "name": "python3",
      "display_name": "Python 3"
    }
  },
  "cells": [
    {
      "cell_type": "markdown",
      "metadata": {
        "id": "XzzQvvbt3yFf",
        "colab_type": "text"
      },
      "source": [
        "CSE-221710304014-C.Tharun Kumar Reddy"
      ]
    },
    {
      "cell_type": "code",
      "metadata": {
        "id": "V3E6Gu4n36Lw",
        "colab_type": "code",
        "outputId": "c61fd1b4-2821-465e-abb1-a98b4ca64600",
        "colab": {
          "base_uri": "https://localhost:8080/",
          "height": 168
        }
      },
      "source": [
        "#Chef has a string\n",
        "#q1\n",
        "def L(x):return x[1:]+x[0]\n",
        "def R(x):return x[-1]+x[0:-1]\n",
        "n=int(input())\n",
        "list1=[input() for i in range(n)]\n",
        "for x in list1:\n",
        "    print(\"YES\") if L(x)==R(x) else print('NO')"
      ],
      "execution_count": 0,
      "outputs": [
        {
          "output_type": "stream",
          "text": [
            "4\n",
            "a\n",
            "ab\n",
            "abc\n",
            "aaaaa\n",
            "YES\n",
            "YES\n",
            "NO\n",
            "YES\n"
          ],
          "name": "stdout"
        }
      ]
    },
    {
      "cell_type": "code",
      "metadata": {
        "id": "kxSCWDYC3-Cs",
        "colab_type": "code",
        "outputId": "c40036fe-7c1f-408e-967b-07929579da4b",
        "colab": {
          "base_uri": "https://localhost:8080/",
          "height": 50
        }
      },
      "source": [
        "# Beautiful Days at the Movies\n",
        "i,j,k = [int(x) for x in input().split()]\n",
        "count=0\n",
        "while i<=j:\n",
        "    rev=int(str(i)[::-1])\n",
        "    if (i-rev)%k==0:\n",
        "        count+=1 \n",
        "    i+=1\n",
        "print(count)"
      ],
      "execution_count": 0,
      "outputs": [
        {
          "output_type": "stream",
          "text": [
            "20 23 6\n",
            "2\n"
          ],
          "name": "stdout"
        }
      ]
    },
    {
      "cell_type": "code",
      "metadata": {
        "id": "9FNrzELC4S11",
        "colab_type": "code",
        "outputId": "bfdd15d4-869e-444c-91b7-a621db568139",
        "colab": {
          "base_uri": "https://localhost:8080/",
          "height": 67
        }
      },
      "source": [
        "#Birthday Cake Candles\n",
        "input()\n",
        "arr = input().split()\n",
        "print(arr.count(max(arr)))"
      ],
      "execution_count": 0,
      "outputs": [
        {
          "output_type": "stream",
          "text": [
            "4\n",
            "3 2 1 3\n",
            "2\n"
          ],
          "name": "stdout"
        }
      ]
    },
    {
      "cell_type": "code",
      "metadata": {
        "id": "p9b5yFbD4X9c",
        "colab_type": "code",
        "outputId": "4bab69de-cd93-4e09-b6f3-3b9852b12017",
        "colab": {
          "base_uri": "https://localhost:8080/",
          "height": 50
        }
      },
      "source": [
        "import itertools as it\n",
        "a=list(map(str,input().split(',')))\n",
        "p = it.permutations(a, len(a))\n",
        "x = list(set(p))               \n",
        "l = []\n",
        "for i in x:                          \n",
        "    p = ''.join(i)                   \n",
        "    l.append(int(p))\n",
        "l.sort()\n",
        "print(\"output : \",str(l[-1])+','+str(len(l)))"
      ],
      "execution_count": 0,
      "outputs": [
        {
          "output_type": "stream",
          "text": [
            "1,2,1,4\n",
            "output :  4211,12\n"
          ],
          "name": "stdout"
        }
      ]
    },
    {
      "cell_type": "code",
      "metadata": {
        "id": "cT3QKr134fJL",
        "colab_type": "code",
        "outputId": "b2c8354a-90aa-4d9a-cc4d-0c1e054479ae",
        "colab": {
          "base_uri": "https://localhost:8080/",
          "height": 50
        }
      },
      "source": [
        "#For a given positive number num,identify the palindrome formed by performing the following operations\n",
        "\n",
        "n=int(input(\"\"))\n",
        "if(str(n)==str(n)[::-1]):\n",
        "    print(\"palindrome\")\n",
        "else:\n",
        "    rev=int(str(n)[::-1])\n",
        "    s = n+rev\n",
        "    print(s)\n",
        "    "
      ],
      "execution_count": 0,
      "outputs": [
        {
          "output_type": "stream",
          "text": [
            "124\n",
            "545\n"
          ],
          "name": "stdout"
        }
      ]
    },
    {
      "cell_type": "code",
      "metadata": {
        "id": "GLiIiQvf4lOZ",
        "colab_type": "code",
        "outputId": "68c7e558-7277-4cf7-921a-f5b9b34b1363",
        "colab": {
          "base_uri": "https://localhost:8080/",
          "height": 134
        }
      },
      "source": [
        "for i in range(int(input())):\n",
        "    n,k = map(int,input().split())\n",
        "    a = list(map(int,input().split()))\n",
        "    c,x,i1,i2,b = 0,0,0,0,list()\n",
        "    for j in range(n):\n",
        "        c += 1\n",
        "        if a[j] > k :\n",
        "            x += 1\n",
        "            if x == 1 :\n",
        "                i1 = j\n",
        "            else:\n",
        "                if a[j] == a[i1]:\n",
        "                    x -= 1\n",
        "                else:i2 = j\n",
        "        if x == 2 :\n",
        "            x = 1\n",
        "            b.append(c-1)\n",
        "            c = i2-i1\n",
        "            i1 = i2\n",
        "            i2 = 0\n",
        "        if j == n-1 and b == [ ]:b.append(n)\n",
        "    print(max(b))"
      ],
      "execution_count": 0,
      "outputs": [
        {
          "output_type": "stream",
          "text": [
            "2\n",
            "5 3\n",
            "2 4 2 4 2\n",
            "5\n",
            "8 5\n",
            "9 3 5 7 8 11 17 2\n",
            "3\n"
          ],
          "name": "stdout"
        }
      ]
    },
    {
      "cell_type": "code",
      "metadata": {
        "id": "RQJtHkte4q5O",
        "colab_type": "code",
        "outputId": "281d2c47-12b1-4dd1-e9e0-d421470a5451",
        "colab": {
          "base_uri": "https://localhost:8080/",
          "height": 50
        }
      },
      "source": [
        "#xyz:750,abc:265,qwerty:195\n",
        "s=input()\n",
        "list1=s.split(\",\")\n",
        "list2=[i.split(\":\")[1] for i in list1]\n",
        "list3=[]\n",
        "for num in list2:\n",
        "    n=int(num)\n",
        "    rev=num[::-1]\n",
        "    while str(n)!=rev:\n",
        "        n+=int(rev)\n",
        "        rev=str(n)[::-1]\n",
        "    list3.append(n)\n",
        "list1[list3.index(max(list3))].split(\":\")[0]"
      ],
      "execution_count": 0,
      "outputs": [
        {
          "output_type": "stream",
          "text": [
            "xyz:750,abc:265,qwerty:195\n"
          ],
          "name": "stdout"
        },
        {
          "output_type": "execute_result",
          "data": {
            "text/plain": [
              "'abc'"
            ]
          },
          "metadata": {
            "tags": []
          },
          "execution_count": 8
        }
      ]
    },
    {
      "cell_type": "code",
      "metadata": {
        "id": "4Zuqxxnx44jM",
        "colab_type": "code",
        "outputId": "92f5b8dd-c65a-4965-fe9f-350262afb9f2",
        "colab": {
          "base_uri": "https://localhost:8080/",
          "height": 54
        }
      },
      "source": [
        "#The groups_per_user function receives a dictionary.which contains group names with the list of users.Users can belong to multiple groups.Return a dictionary with the users as keys and a list of their groups as values.\n",
        "\n",
        "def groups_per_user(groups):\n",
        "    usergroups = {}\n",
        "    for group,users in groups.items():\n",
        "        for user in users:\n",
        "             usergroups[user] = usergroups.get(user,[]) + [group]\n",
        "\n",
        "    return(usergroups)\n",
        "\n",
        "print(groups_per_user({\"local\": [\"admin\", \"userA\"],\n",
        "        \"public\":  [\"admin\", \"userB\"],\n",
        "        \"administrator\": [\"admin\"] }))"
      ],
      "execution_count": 0,
      "outputs": [
        {
          "output_type": "stream",
          "text": [
            "{'admin': ['local', 'public', 'administrator'], 'userA': ['local'], 'userB': ['public']}\n"
          ],
          "name": "stdout"
        }
      ]
    },
    {
      "cell_type": "code",
      "metadata": {
        "id": "7k8TBB0I8ad0",
        "colab_type": "code",
        "outputId": "244d1e83-bdd3-4417-d5f6-4f46f157fac8",
        "colab": {
          "base_uri": "https://localhost:8080/",
          "height": 67
        }
      },
      "source": [
        "#Input : london 40000 12,chicago 60000 20,munich 50000 15,paris 70000 5\n",
        "# Output : paris munich\n",
        "s=input()\n",
        "s1=s.split(',')\n",
        "print(s1)\n",
        "a={}\n",
        "b={}\n",
        "al=[]\n",
        "bl=[]\n",
        "for i in s1:\n",
        "    a1=list(i.split())\n",
        "    a[a1[0]]=int(a1[1])\n",
        "    b[a1[0]]=int(a1[2])\n",
        "a1 = sorted(a.items(), key=lambda x: x[1],reverse=True)\n",
        "b1 = sorted(b.items(), key=lambda x: x[1])\n",
        "for i in a1:\n",
        "    al.append(i[0])\n",
        "for i in b1:\n",
        "    bl.append(i[0])\n",
        "for i in range(0,len(a1)):\n",
        "    if(al[i]==bl[i]):\n",
        "        print(al[i],end=\" \")"
      ],
      "execution_count": 0,
      "outputs": [
        {
          "output_type": "stream",
          "text": [
            "london 40000 12,chicago 60000 20,munich 50000 15,paris 70000 5\n",
            "['london 40000 12', 'chicago 60000 20', 'munich 50000 15', 'paris 70000 5']\n",
            "paris munich "
          ],
          "name": "stdout"
        }
      ]
    },
    {
      "cell_type": "code",
      "metadata": {
        "id": "qmj6a1osVGir",
        "colab_type": "code",
        "outputId": "6149527e-db15-48d5-b4bf-ea113a86c18d",
        "colab": {
          "base_uri": "https://localhost:8080/",
          "height": 50
        }
      },
      "source": [
        "\n",
        "#Jug Filling Problem\n",
        "#Problem statement: “Given two empty jugs with 3 and 5 liter capacities and a full jug with 8 liters, find a sequence of pours leaving four liters in the two largest jugs.”\n",
        "\n",
        "cap = (8,5,3)\n",
        "x = cap[0]\n",
        "y = cap[1]\n",
        "z = cap[2]\n",
        "memory = {}\n",
        "answer = []\n",
        "\n",
        "def get_all_states(state):\n",
        "  a = state[0]\n",
        "  b = state[1]\n",
        "  c = state[2]\n",
        "\n",
        "  if(a==4 and b==4):\n",
        "      answer.append(state)\n",
        "      return True\n",
        "\n",
        "  if((a,b,c) in memory):\n",
        "      return False\n",
        "\n",
        "  memory[(a,b,c)] = 1\n",
        "  if(a>0):\n",
        "      if(a+b<=y):\n",
        "          if( get_all_states((0,a+b,c)) ):\n",
        "              answer.append(state)\n",
        "              return True\n",
        "      else:\n",
        "          if( get_all_states((a-(y-b), y, c)) ):\n",
        "              answer.append(state)\n",
        "              return True\n",
        "      if(a+c<=z):\n",
        "          if( get_all_states((0,b,a+c)) ):\n",
        "              answer.append(state)\n",
        "              return True\n",
        "      else:\n",
        "          if( get_all_states((a-(z-c), b, z)) ):\n",
        "              answer.append(state)\n",
        "              return True\n",
        "  if(b>0):\n",
        "      if(a+b<=x):\n",
        "          if( get_all_states((a+b, 0, c)) ):\n",
        "              ans.append(state)\n",
        "              return True\n",
        "      else:\n",
        "          if( get_all_states((x, b-(x-a), c)) ):\n",
        "              answer.append(state)\n",
        "              return True\n",
        "      if(b+c<=z):\n",
        "          if( get_all_states((a, 0, b+c)) ):\n",
        "              answer.append(state)\n",
        "              return True\n",
        "      else:\n",
        "          if( get_all_states((a, b-(z-c), z)) ):\n",
        "              answer.append(state)\n",
        "              return True\n",
        "  if(c>0):\n",
        "      if(a+c<=x):\n",
        "          if( get_all_states((a+c, b, 0)) ):\n",
        "              ans.append(state)\n",
        "              return True\n",
        "      else:\n",
        "          if( get_all_states((x, b, c-(x-a))) ):\n",
        "              answer.append(state)\n",
        "              return True\n",
        "      if(b+c<=y):\n",
        "          if( get_all_states((a, b+c, 0)) ):\n",
        "              answer.append(state)\n",
        "              return True\n",
        "      else:\n",
        "          if( get_all_states((a, y, c-(y-b))) ):\n",
        "              answer.append(state)\n",
        "              return True\n",
        "\n",
        "  return False\n",
        "\n",
        "initial_state = (8,0,0)\n",
        "get_all_states(initial_state)\n",
        "answer.reverse()\n",
        "print(answer)\n",
        "print(len(answer))"
      ],
      "execution_count": 3,
      "outputs": [
        {
          "output_type": "stream",
          "text": [
            "[(8, 0, 0), (3, 5, 0), (5, 0, 3), (5, 3, 0), (2, 3, 3), (7, 0, 1), (7, 1, 0), (4, 1, 3), (4, 4, 0)]\n",
            "9\n"
          ],
          "name": "stdout"
        }
      ]
    },
    {
      "cell_type": "code",
      "metadata": {
        "id": "jtn6aIjlVQ5x",
        "colab_type": "code",
        "colab": {
          "base_uri": "https://localhost:8080/",
          "height": 50
        },
        "outputId": "a2b2986f-7f11-4fe3-aea8-e530bb157a65"
      },
      "source": [
        "\n",
        "# user_id = [1,1,2,3,3,4,4,4,5,5]\n",
        "#ancestry=[\"England\",\"Ireland\",\"France\",\"Germany\",\"Poland\",\"England\",\"France\",\"Germany\",\"France\",\"Germany\"]\n",
        "#If my required countries are France and Germany\n",
        "# required = ['France', 'Germany']\n",
        "user_id=[1,1,2,3,3,4,4,4,5,5]\n",
        "user=list(set(user_id))\n",
        "ancestry=[\"England\",\"Ireland\",\"France\",\"Germany\",\"Poland\",\"England\",\"France\",\"Germany\",\"France\",\"Germany\"]\n",
        "r={}\n",
        "for i in range (0,len(user_id)):\n",
        "    if(user_id[i] not in r.keys()):\n",
        "        r[user_id[i]]=[]\n",
        "        r[user_id[i]].append(ancestry[i])\n",
        "    else:\n",
        "        r[user_id[i]].append(ancestry[i])\n",
        "required=['France','Germany']\n",
        "for i in range(0,len(user)):\n",
        "    if(set(required).issubset(set(r[user[i]]))):\n",
        "        print(user[i])"
      ],
      "execution_count": 2,
      "outputs": [
        {
          "output_type": "stream",
          "text": [
            "4\n",
            "5\n"
          ],
          "name": "stdout"
        }
      ]
    },
    {
      "cell_type": "code",
      "metadata": {
        "id": "MwV5rx7VzTLH",
        "colab_type": "code",
        "colab": {}
      },
      "source": [
        ""
      ],
      "execution_count": 0,
      "outputs": []
    }
  ]
}