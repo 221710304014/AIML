{
  "nbformat": 4,
  "nbformat_minor": 0,
  "metadata": {
    "colab": {
      "name": "assignment-5(1-06-2020)",
      "provenance": []
    },
    "kernelspec": {
      "name": "python3",
      "display_name": "Python 3"
    }
  },
  "cells": [
    {
      "cell_type": "markdown",
      "metadata": {
        "id": "D-27xD8_vHqZ",
        "colab_type": "text"
      },
      "source": [
        "CSE-221710304014-C.Tharun kumar reddy"
      ]
    },
    {
      "cell_type": "code",
      "metadata": {
        "id": "LxgTB7NjvP1I",
        "colab_type": "code",
        "colab": {
          "base_uri": "https://localhost:8080/",
          "height": 118
        },
        "outputId": "ae7cec72-bea9-4ec9-9b68-e2cc0e9005a5"
      },
      "source": [
        "import random\n",
        "list1=[\"modeof\",\"sleepy\",\"runing\",\"seating\",\"standing\",\"writing\"]\n",
        "tup1 = [\"tharun\",\"hari\",\"madhu\",\"nani\",\"pichi\",\"jaya\"]\n",
        "import string\n",
        "string.punctuation\n",
        "\n",
        "while True:\n",
        "    st=random.choice(list1)+random.choice(tup1)+random.choice(string.punctuation)+str (random.randint(0,100))\n",
        "    print(st)\n",
        "    s=input(\"you need to genrate the new password yes or no:\")\n",
        "    s=s.lower()\n",
        "    if s==\"no\":\n",
        "        break"
      ],
      "execution_count": 3,
      "outputs": [
        {
          "output_type": "stream",
          "text": [
            "seatingtharun`64\n",
            "you need to genrate the new password yes or no:yes\n",
            "runingjaya,64\n",
            "you need to genrate the new password yes or no:yes\n",
            "runingnani%79\n",
            "you need to genrate the new password yes or no:no\n"
          ],
          "name": "stdout"
        }
      ]
    },
    {
      "cell_type": "code",
      "metadata": {
        "id": "oehooKxdvjMj",
        "colab_type": "code",
        "colab": {}
      },
      "source": [
        ""
      ],
      "execution_count": 0,
      "outputs": []
    }
  ]
}