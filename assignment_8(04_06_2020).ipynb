{
  "nbformat": 4,
  "nbformat_minor": 0,
  "metadata": {
    "colab": {
      "name": "assignment-8(04-06-2020)",
      "provenance": []
    },
    "kernelspec": {
      "name": "python3",
      "display_name": "Python 3"
    }
  },
  "cells": [
    {
      "cell_type": "markdown",
      "metadata": {
        "id": "36Vdzf2EKnhA",
        "colab_type": "text"
      },
      "source": [
        "CSE-221710304014-C.Tharun kumar reddy"
      ]
    },
    {
      "cell_type": "code",
      "metadata": {
        "id": "0p1O3CrAKuSg",
        "colab_type": "code",
        "colab": {}
      },
      "source": [
        "import numpy as np"
      ],
      "execution_count": 0,
      "outputs": []
    },
    {
      "cell_type": "code",
      "metadata": {
        "id": "GUMwkgJAKxwk",
        "colab_type": "code",
        "colab": {
          "base_uri": "https://localhost:8080/",
          "height": 84
        },
        "outputId": "902a14f4-172c-4076-b293-aaa24525c277"
      },
      "source": [
        "# Reversing an Array\n",
        "arr1=np.arange(12,38)\n",
        "print(arr1)\n",
        "reverse=arr1[::-1]\n",
        "print(reverse)\n"
      ],
      "execution_count": 2,
      "outputs": [
        {
          "output_type": "stream",
          "text": [
            "[12 13 14 15 16 17 18 19 20 21 22 23 24 25 26 27 28 29 30 31 32 33 34 35\n",
            " 36 37]\n",
            "[37 36 35 34 33 32 31 30 29 28 27 26 25 24 23 22 21 20 19 18 17 16 15 14\n",
            " 13 12]\n"
          ],
          "name": "stdout"
        }
      ]
    },
    {
      "cell_type": "code",
      "metadata": {
        "id": "uinXyRDoK3ZH",
        "colab_type": "code",
        "colab": {
          "base_uri": "https://localhost:8080/",
          "height": 101
        },
        "outputId": "20538433-1ae0-4bcd-dfc5-84bdad709b05"
      },
      "source": [
        "#Write a NumPy program to create a 2d array with 1 on the border and 0 inside. \n",
        "arr= np.ones((5,5))\n",
        "arr[1:-1,1:-1]=0\n",
        "print(arr)"
      ],
      "execution_count": 3,
      "outputs": [
        {
          "output_type": "stream",
          "text": [
            "[[1. 1. 1. 1. 1.]\n",
            " [1. 0. 0. 0. 1.]\n",
            " [1. 0. 0. 0. 1.]\n",
            " [1. 0. 0. 0. 1.]\n",
            " [1. 1. 1. 1. 1.]]\n"
          ],
          "name": "stdout"
        }
      ]
    },
    {
      "cell_type": "code",
      "metadata": {
        "id": "DPNt1-IJK6Ux",
        "colab_type": "code",
        "colab": {
          "base_uri": "https://localhost:8080/",
          "height": 67
        },
        "outputId": "766c6bea-bd55-4f96-a45d-553f84d2256c"
      },
      "source": [
        "#Write a NumPy program to test whether each element of a 1-D array is also present in a second array.\n",
        "arr2= np.array([0, 10, 20, 40, 60])\n",
        "print(\"array1: \",arr2)\n",
        "arr3= [0, 40]\n",
        "print(\"array2: \",arr3)\n",
        "print(np.in1d(arr2, arr3))"
      ],
      "execution_count": 4,
      "outputs": [
        {
          "output_type": "stream",
          "text": [
            "array1:  [ 0 10 20 40 60]\n",
            "array2:  [0, 40]\n",
            "[ True False False  True False]\n"
          ],
          "name": "stdout"
        }
      ]
    },
    {
      "cell_type": "code",
      "metadata": {
        "id": "-JeExp5mK9q3",
        "colab_type": "code",
        "colab": {
          "base_uri": "https://localhost:8080/",
          "height": 67
        },
        "outputId": "35a0c26d-d476-477f-f7eb-f92c6df0cd43"
      },
      "source": [
        "# Write a NumPy program to find the set difference of two arrays. The set difference will return the sorted, unique values in array1 that are not in array2.\n",
        "\n",
        "arr4 = np.array([0, 10, 20, 40, 60, 80])\n",
        "print(\"array1: \",arr4)\n",
        "arr5 = [10, 30, 40, 50, 70]\n",
        "print(\"array2: \",arr5)\n",
        "print(np.setdiff1d(arr4, arr5))"
      ],
      "execution_count": 5,
      "outputs": [
        {
          "output_type": "stream",
          "text": [
            "array1:  [ 0 10 20 40 60 80]\n",
            "array2:  [10, 30, 40, 50, 70]\n",
            "[ 0 20 60 80]\n"
          ],
          "name": "stdout"
        }
      ]
    },
    {
      "cell_type": "code",
      "metadata": {
        "id": "AJm8txzoLAxW",
        "colab_type": "code",
        "colab": {
          "base_uri": "https://localhost:8080/",
          "height": 84
        },
        "outputId": "8dc5fc83-0967-458c-e6c4-fa8b81e5d38e"
      },
      "source": [
        "# Write a NumPy program to create a 2-D array whose diagonal equals [4, 5, 6, 8] and 0's \n",
        "arr5= np.diagflat([4, 5, 6, 8])\n",
        "print(arr5)"
      ],
      "execution_count": 6,
      "outputs": [
        {
          "output_type": "stream",
          "text": [
            "[[4 0 0 0]\n",
            " [0 5 0 0]\n",
            " [0 0 6 0]\n",
            " [0 0 0 8]]\n"
          ],
          "name": "stdout"
        }
      ]
    },
    {
      "cell_type": "code",
      "metadata": {
        "id": "jjeAjFXtLDz2",
        "colab_type": "code",
        "colab": {}
      },
      "source": [
        ""
      ],
      "execution_count": 0,
      "outputs": []
    }
  ]
}